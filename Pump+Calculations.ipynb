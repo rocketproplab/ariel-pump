{
 "cells": [
  {
   "cell_type": "markdown",
   "metadata": {},
   "source": [
    "# Pump Calculations"
   ]
  },
  {
   "cell_type": "code",
   "execution_count": null,
   "metadata": {
    "collapsed": true
   },
   "outputs": [],
   "source": [
    "import numpy as np"
   ]
  },
  {
   "cell_type": "markdown",
   "metadata": {},
   "source": [
    "## Power Input"
   ]
  },
  {
   "cell_type": "code",
   "execution_count": null,
   "metadata": {
    "collapsed": false
   },
   "outputs": [],
   "source": [
    "#Constants and inputs\n",
    "g = 32.174; #gravitational acceleration, ft/s^2\n",
    "rho_LOx = 71.27; #Density of Liquid Oxygen- lbm/ft^3\n",
    "rho_LCH4 = 26.3; #Density of Liquid Methane- lbm/ft^3\n",
    "\n",
    "Differential = input('Desired pressure differential(psi): ')\n",
    "Differential = float(Differential)\n",
    "\n",
    "m_LOx = input('Enter Mass Flow of Oxygen (lb/s): ')\n",
    "m_LCH4 = input('Enter Mass Flow of Methane (lb/s): ')\n",
    "mLOx = float(m_LOx)\n",
    "mLCH4 = float(m_LCH4)"
   ]
  },
  {
   "cell_type": "code",
   "execution_count": null,
   "metadata": {
    "collapsed": false
   },
   "outputs": [],
   "source": [
    "#Head Calculations\n",
    "HLOx = (((Differential)*144)/(rho_LOx * g))*32.174 #Head of Liquid Oxygen - ft\n",
    "HLCH4 = (((Differential)*144)/(rho_LCH4 * g))*32.174 #Head of Liquid Methane - ft"
   ]
  },
  {
   "cell_type": "code",
   "execution_count": null,
   "metadata": {
    "collapsed": false
   },
   "outputs": [],
   "source": [
    "#Power Calculations - Assume a 75% effiency (Minimum value that we can reach)\n",
    "Power_LOx = (((mLOx * g * HLOx)/0.75)/32.174) * 1.36; #Output is in Watts\n",
    "Power_LCH4 = (((mLCH4 * g * HLCH4)/0.75)/32.174) * 1.36; #Output is in Watts"
   ]
  },
  {
   "cell_type": "markdown",
   "metadata": {},
   "source": [
    "## Impeller Calculations"
   ]
  },
  {
   "cell_type": "markdown",
   "metadata": {},
   "source": [
    "### Constants"
   ]
  },
  {
   "cell_type": "code",
   "execution_count": null,
   "metadata": {
    "collapsed": true
   },
   "outputs": [],
   "source": [
    "QLOx = mLOx/rho_LOx #Volumetric flow rate of Liquid Oxygen in ft^3/s\n",
    "QLCH4 = mLCH4/rho_LCH4 #Volumetric flow rate of Liquid Methane in ft^3/s\n",
    "\n",
    "Eff_Vol = input('Volumetric Efficiency: ') #Volumetric effiency is a measure of how much fluid is lost due to leakages\n",
    "Eff_Vol = float(Eff_Vol)\n",
    "\n",
    "QImp_LOx =  QLox/Eff_Vol #Impeller flow rate of Liquid oxygen in ft^3/s\n",
    "QImp_LCH4 = QLCH4/Eff_Vol #Impeller flow rate of Liquid methane in ft^3/s\n",
    "\n",
    "n = input('RPM: ')\n",
    "n = float(n)\n",
    "\n",
    "nq_LOx = n * (QImp_LOx ** 0.5)/(HLOx ** 0.75) #specific speed of Liquid Oxygen\n",
    "nq_LCH4 = n * (QImp_LCH4 ** 0.5)/(HLCH4 ** 0.75) #specific speed of Liquid Methane\n",
    "\n",
    "omegas_LOx = nq_LOx/52.9 #universal specific speed\n",
    "omegas_LCH4 = nq_LCH4/52.9 #universal specific speed\n",
    "\n",
    "tau = input('Shear stress of desired metal(Pa): ') #Shear stress of metal \n",
    "tau = float(tau)\n",
    "\n",
    "fq = 1 #Number of impeller inlets, either 1 or 2\n",
    "f_t = 1.1 #Given earlier in the text\n",
    "\n",
    "PC_LOx = 1.21*f_t*(np.exp(-0.408*omegas_LOx))* nq #Pressure coefficient of static pressure rise in impeller of Liquid Oxygen, the equation given uses nq_ref, but I just use nq because I didn't define an nq_ref\n",
    "PC_LCH4 = 1.21*f_t*(np.exp(-0.408*omegas_LCH4))* nq #Pressure coefficienct of static pressure rise in impeller of Liquid Methane\n"
   ]
  },
  {
   "cell_type": "markdown",
   "metadata": {},
   "source": [
    "#### Shaft diameter"
   ]
  },
  {
   "cell_type": "code",
   "execution_count": null,
   "metadata": {
    "collapsed": true
   },
   "outputs": [],
   "source": [
    "dw_LOx = 3.65(Power_LOx)/(rpm*tau) #Shaft diameter of Liquid Oxygen Impeller\n",
    "dw_LCH4 = 3.65(Power_LCH4)/(rpm*tau) #Shaft diameter of Liquid Methane Impeller"
   ]
  },
  {
   "cell_type": "markdown",
   "metadata": {},
   "source": [
    "#### Specific Speed"
   ]
  },
  {
   "cell_type": "code",
   "execution_count": null,
   "metadata": {
    "collapsed": true
   },
   "outputs": [],
   "source": [
    "q_LOx = QLOx * 3600 * (.3048 ** 3) #converts ft^3/s to m^3/h\n",
    "q_LCH4 = QLCH4 * 3600 * (.3048 ** 3) #converts ft^3/s to m^3/h\n",
    "\n",
    "\n",
    "ps = 200 #static pressure in fluid close to impeller in psi\n",
    "pv_LOX = \n",
    "pv_LCH4 = \n",
    "A_LOx = #see two lines below to see what to do \n",
    "A_LCH4 = #see two lines below to see what to do\n",
    "v_LOx = (mLOx / rho_LOx) / A_LOx #Define A above as the area of the inlet pipe in ft^2\n",
    "v_LCH4 = (mLCH4 / rho_LCH4) / A_LCH4 #Define A above as the area of the inlet pipe in ft^2\n",
    "\n",
    "\n",
    "NPSH_LOx = ps/rho_LOx * (v_LOx ** 2)/(2*9.81) - pv/rho_LOx #substitue pv as Vapor Pressure of Oxygen at temperature in psi above \n",
    "NPSH_LCH4 = ps/rho_LOx * (v_LOx ** 2)/(2*9.81) - pv/rho_LOx #substitue pv as Vapor Pressure of Methane at temperature in psi above \n",
    "\n",
    "\n",
    "nss_LOx = n*(q_LOx ** 0.5)/(NPSH_LOx ** 0.75)\n",
    "nss_LCH4 = n*(q_LCH4 ** 0.5)/(NPSH_LCH4 ** 0.75)"
   ]
  },
  {
   "cell_type": "markdown",
   "metadata": {},
   "source": [
    "#### Inlet diameter"
   ]
  },
  {
   "cell_type": "code",
   "execution_count": null,
   "metadata": {
    "collapsed": true
   },
   "outputs": [],
   "source": [
    "#Note: The equation given in the book uses a (1+tan(Beta1)/tan(alpha1)) term, but since the impeller is radial, alpha1 is 90 so the term goes to infinity and therefore results in a multiplication by 1\n",
    "#Beta1 is determined by finding the specific suction speed** and reading off of the graph, or using:\n",
    "#kn = 1 - (dn ** 2)/(d1 ** 2); Just choose a value (I assumed inlet diameter ~ 1.15x the size of dn, the hub diameter) since d1 depends on the value of kn and vice versa\n",
    "    tan_Beta1_LOx = (kn) ** 1.1 * (125/nss_LOx) ** 2.2 * (nq_LOx/27) ** 0.418 #Calculates Beta with a 40% std deviation, so a large amount of values is determined with this formula\n",
    "    tan_Beta1_LCH4 = (kn) ** 1.1 * (125/nss_LCH4) ** 2.2 * (nq_LCH4/27) ** 0.418 #Calculates Beta with a 40% std deviation, so a large amount of values is determined with this formula\n",
    "\n",
    "d1_LOx = 2.9 * (QImp_LOx/(fq*n*kn*tan_Beta1_LOx))^(1/3)\n",
    "d1_LCH4 = 2.9 * (QImp_LCH4/(fq*n*kn*tan_Beta1_LCH4))^(1/3)"
   ]
  },
  {
   "cell_type": "markdown",
   "metadata": {},
   "source": [
    "#### Exit Diameter"
   ]
  },
  {
   "cell_type": "code",
   "execution_count": null,
   "metadata": {
    "collapsed": true
   },
   "outputs": [],
   "source": [
    "d2_LOx = 60/(pi * n) * (2 * 9.81 * (HLOx * 0.3048)/(PC_LOX)) ** 0.5\n",
    "d2_LCH4 = 60/(pi * n) * (2 * 9.81 * (HLCH4 * 0.3048)/(PC_LCH4)) ** 0.5"
   ]
  },
  {
   "cell_type": "markdown",
   "metadata": {},
   "source": [
    "#### Blade Thickness"
   ]
  },
  {
   "cell_type": "code",
   "execution_count": null,
   "metadata": {
    "collapsed": true
   },
   "outputs": [],
   "source": [
    "e_LOx = 0.022 * d2_LOx #Blade thickness for LOx, this number may have to go up for manufacturing purposes\n",
    "e_LCH4 = 0.022 * d2_LCH4 #Blade thickness for LCH4, this number may have to go up for manufacturing purposes"
   ]
  },
  {
   "cell_type": "markdown",
   "metadata": {},
   "source": [
    "#### Leading and Trailing Edge Profiles"
   ]
  },
  {
   "cell_type": "code",
   "execution_count": null,
   "metadata": {
    "collapsed": true
   },
   "outputs": [],
   "source": [
    "cp_min_sf = 0.155\n",
    "Lp1_LOx = (2 + (4 + 4 * ((cp_min_sf/0.373)/e_LOx)*(0.373 * e_LOx)) ** 0.5)/ (2 * (cp_min_sf/0.373)/e_LOx) #Leading Edge profile, simplification of formula in Centrifugal Pumps in terms of Quadratic formula\n",
    "Lp2_LOx = (2 - (4 + 4 * ((cp_min_sf/0.373)/e_LOx)*(0.373 * e_LOx)) ** 0.5)/ (2 * (cp_min_sf/0.373)/e_LOx) #Leading Edge profile, simplification of formula in Centrifugal Pumps in terms of Quadratic formula\n",
    "\n",
    "Lp1_LCH4 = (2 + (4 + 4 * ((cp_min_sf/0.373)/e_LCH4)*(0.373 * e_LCH4)) ** 0.5)/ (2 * (cp_min_sf/0.373)/e_LCH4) #Leading Edge profile, simplification of formula in Centrifugal Pumps in terms of Quadratic formula\n",
    "Lp2_LCH4 = (2 - (4 + 4 * ((cp_min_sf/0.373)/e_LCH4)*(0.373 * e_LCH4)) ** 0.5)/ (2 * (cp_min_sf/0.373)/e_LCH4) #Leading Edge profile, simplification of formula in Centrifugal Pumps in terms of Quadratic formula\n",
    "#Take whichever value above comes out positive, assumed an elliptical profile where cp,min,sf was given as 0.155. Formula changes if cp_min_sf changes\n",
    "\n",
    "TE_LOx = e_LOx/2 #Trailing edge for Liquid Oxygen using the most simple formula given\n",
    "TE_LCH4 = e_LCH4/2 #Trailing edge for Liquid Methane using the most simple formula given"
   ]
  }
 ],
 "metadata": {
  "kernelspec": {
   "display_name": "Python 3",
   "language": "python",
   "name": "python3"
  },
  "language_info": {
   "codemirror_mode": {
    "name": "ipython",
    "version": 3
   },
   "file_extension": ".py",
   "mimetype": "text/x-python",
   "name": "python",
   "nbconvert_exporter": "python",
   "pygments_lexer": "ipython3",
   "version": "3.6.0"
  }
 },
 "nbformat": 4,
 "nbformat_minor": 2
}
